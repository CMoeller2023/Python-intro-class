{
 "cells": [
  {
   "cell_type": "code",
   "execution_count": null,
   "id": "97ac3f9a-c875-4cd0-9274-80090809b511",
   "metadata": {},
   "outputs": [
    {
     "name": "stdout",
     "output_type": "stream",
     "text": [
      "\n",
      "--- Hepatitis A in Hillsborough County ---\n"
     ]
    }
   ],
   "source": [
    "# Epidemiology Calculations\n",
    "# Each section asks for inputs to calculate prevalence, incidence, mortality, and YPLL (when needed)\n",
    "\n",
    "# ---- Hepatitis A ----\n",
    "print(\"\\n--- Hepatitis A in Hillsborough County ---\")\n",
    "cases = int(input(\"Total existing cases (2022): \"))\n",
    "population = int(input(\"Population: \"))\n",
    "new_cases = int(input(\"New cases (Jan-May 2023): \"))\n",
    "deaths = int(input(\"Number of deaths: \"))\n",
    "ages = [64, 74]   # given\n",
    "life_expectancy = 77\n",
    "\n",
    "# prevalence\n",
    "prevalence = (cases / population) * 100000\n",
    "# incidence\n",
    "incidence = (new_cases / population) * 100000\n",
    "# mortality\n",
    "mortality = (deaths / population) * 100000\n",
    "# YPLL\n",
    "ypll = sum([life_expectancy - age for age in ages])\n",
    "\n",
    "print(f\"Prevalence: {prevalence:.2f} per 100,000\")\n",
    "print(f\"Incidence: {incidence:.2f} per 100,000\")\n",
    "print(f\"Mortality rate: {mortality:.2f} per 100,000\")\n",
    "print(f\"Years of Potential Life Lost: {ypll}\")\n",
    "\n",
    "# ---- Salmonella ----\n",
    "print(\"\\n--- Salmonella in Miami-Dade ---\")\n",
    "cases = int(input(\"Total cases (2022): \"))\n",
    "population = int(input(\"Population: \"))\n",
    "new_cases = int(input(\"New cases (Jan-May 2023): \"))\n",
    "deaths = int(input(\"Number of deaths: \"))\n",
    "\n",
    "prevalence = (cases / population) * 100000\n",
    "incidence = (new_cases / population) * 100000\n",
    "mortality = (deaths / population) * 100000\n",
    "\n",
    "print(f\"Prevalence: {prevalence:.2f} per 100,000\")\n",
    "print(f\"Incidence: {incidence:.2f} per 100,000\")\n",
    "print(f\"Mortality rate: {mortality:.2f} per 100,000\")\n",
    "\n",
    "# ---- Influenza ----\n",
    "print(\"\\n--- Influenza (2021 flu season) ---\")\n",
    "cases = int(input(\"Cases at start of season: \"))\n",
    "population = int(input(\"Population: \"))\n",
    "new_cases = int(input(\"New cases (season): \"))\n",
    "deaths = int(input(\"Deaths: \"))\n",
    "\n",
    "prevalence = (cases / population) * 100000\n",
    "incidence = (new_cases / population) * 100000\n",
    "mortality = (deaths / population) * 100000\n",
    "\n",
    "print(f\"Prevalence: {prevalence:.2f} per 100,000\")\n",
    "print(f\"Incidence: {incidence:.2f} per 100,000\")\n",
    "print(f\"Mortality rate: {mortality:.2f} per 100,000\")\n",
    "\n",
    "# ---- Chlamydia ----\n",
    "print(\"\\n--- Chlamydia in Hillsborough County ---\")\n",
    "cases = int(input(\"Total existing cases (Aug 2022): \"))\n",
    "population = int(input(\"Population: \"))\n",
    "new_cases = int(input(\"New cases (Aug-Nov 2022): \"))\n",
    "deaths = int(input(\"Number of deaths: \"))\n",
    "ages = [32, 45, 28, 37, 52]\n",
    "life_expectancy = 77\n",
    "\n",
    "prevalence = (cases / population) * 100000\n",
    "incidence = (new_cases / population) * 100000\n",
    "mortality = (deaths / population) * 100000\n",
    "ypll = sum([life_expectancy - age for age in ages])\n",
    "\n",
    "print(f\"Prevalence: {prevalence:.2f} per 100,000\")\n",
    "print(f\"Incidence: {incidence:.2f} per 100,000\")\n",
    "print(f\"Mortality rate: {mortality:.2f} per 100,000\")\n",
    "print(f\"Years of Potential Life Lost: {ypll}\")\n"
   ]
  },
  {
   "cell_type": "code",
   "execution_count": null,
   "id": "3c963efd-e11f-4562-acc9-13d4de75c0ca",
   "metadata": {},
   "outputs": [],
   "source": []
  }
 ],
 "metadata": {
  "kernelspec": {
   "display_name": "Python [conda env:base] *",
   "language": "python",
   "name": "conda-base-py"
  },
  "language_info": {
   "codemirror_mode": {
    "name": "ipython",
    "version": 3
   },
   "file_extension": ".py",
   "mimetype": "text/x-python",
   "name": "python",
   "nbconvert_exporter": "python",
   "pygments_lexer": "ipython3",
   "version": "3.13.5"
  }
 },
 "nbformat": 4,
 "nbformat_minor": 5
}
